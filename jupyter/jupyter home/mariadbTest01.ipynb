{
 "cells": [
  {
   "cell_type": "code",
   "execution_count": 2,
   "id": "10e9e3d0-f614-45c7-a157-201071649f71",
   "metadata": {},
   "outputs": [
    {
     "name": "stdout",
     "output_type": "stream",
     "text": [
      "Collecting pymysql\n",
      "  Downloading PyMySQL-1.1.0-py3-none-any.whl.metadata (4.4 kB)\n",
      "Downloading PyMySQL-1.1.0-py3-none-any.whl (44 kB)\n",
      "\u001b[2K   \u001b[38;2;114;156;31m━━━━━━━━━━━━━━━━━━━━━━━━━━━━━━━━━━━━━━━━\u001b[0m \u001b[32m44.8/44.8 kB\u001b[0m \u001b[31m4.9 MB/s\u001b[0m eta \u001b[36m0:00:00\u001b[0m\n",
      "\u001b[?25hInstalling collected packages: pymysql\n",
      "Successfully installed pymysql-1.1.0\n",
      "\u001b[33mWARNING: Running pip as the 'root' user can result in broken permissions and conflicting behaviour with the system package manager. It is recommended to use a virtual environment instead: https://pip.pypa.io/warnings/venv\u001b[0m\u001b[33m\n",
      "\u001b[0mNote: you may need to restart the kernel to use updated packages.\n"
     ]
    }
   ],
   "source": [
    "%pip install pymysql"
   ]
  },
  {
   "cell_type": "code",
   "execution_count": 4,
   "id": "d71d8cf7-315f-411d-bf19-2c0d729aec0c",
   "metadata": {},
   "outputs": [
    {
     "name": "stdout",
     "output_type": "stream",
     "text": [
      "Database version : ('11.3.2-MariaDB',)\n"
     ]
    }
   ],
   "source": [
    "import pymysql\n",
    "\n",
    "# 데이터베이스 연결 설정\n",
    "connection = pymysql.connect(host='34.125.136.103',\n",
    "                             port=30007,\n",
    "                             user='root',\n",
    "                             password='tjehdgml',\n",
    "                             database='sparkdb',\n",
    "                             charset='utf8')\n",
    "\n",
    "try:\n",
    "    # 커서 생성\n",
    "    cursor = connection.cursor()\n",
    "    # SQL 쿼리 실행\n",
    "    cursor.execute(\"SELECT VERSION()\")\n",
    "    # 데이터 가져오기\n",
    "    result = cursor.fetchone()\n",
    "    print(\"Database version : {}\".format(result))\n",
    "finally:\n",
    "    # 데이터베이스 연결 종료\n",
    "    connection.close()\n"
   ]
  }
 ],
 "metadata": {
  "kernelspec": {
   "display_name": "Python 3 (ipykernel)",
   "language": "python",
   "name": "python3"
  },
  "language_info": {
   "codemirror_mode": {
    "name": "ipython",
    "version": 3
   },
   "file_extension": ".py",
   "mimetype": "text/x-python",
   "name": "python",
   "nbconvert_exporter": "python",
   "pygments_lexer": "ipython3",
   "version": "3.9.19"
  }
 },
 "nbformat": 4,
 "nbformat_minor": 5
}
