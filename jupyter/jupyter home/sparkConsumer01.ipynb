{
 "cells": [
  {
   "cell_type": "code",
   "execution_count": 1,
   "id": "be3b903e-b176-41d1-a027-25ba270b4219",
   "metadata": {},
   "outputs": [],
   "source": [
    "from pyspark.sql import SparkSession\n",
    "from pyspark.sql.functions import col, from_json\n",
    "from pyspark.sql.types import StringType, StructType, StructField\n",
    "from pyspark.conf import SparkConf\n",
    "conf = (\n",
    "SparkConf()\n",
    "    .setAppName(\"MY_kafka\") # replace with your desired name\n",
    "    .set(\"spark.jars.packages\", \\\n",
    "         \"org.apache.commons:commons-pool2:2.11.1\"\\\n",
    "         \",org.apache.kafka:kafka-clients:3.4.0\"\\\n",
    "         \",org.apache.spark:spark-protobuf_2.12:3.4.1\"\\\n",
    "         \",org.apache.spark:spark-sql-kafka-0-10_2.12:3.4.1\"\\\n",
    "         \",org.apache.spark:spark-token-provider-kafka-0-10_2.12:3.4.1\"\\\n",
    "        )\n",
    "    .setMaster(\"local\")\n",
    "    # .setMaster(\"spark://34.125.136.103:30077\")\n",
    "    # .set(\"spark.driver.host\", \"34.125.75.149\") # 원격 실행 시 exited with code 1 exitStatus 1(무한재시작) 현상 방지용\n",
    "    # .set(\"spark.driver.bindAddress\", \"0.0.0.0\") # 원격 실행 시 exited with code 1 exitStatus 1(무한재시작) 현상 방지용\n",
    ")"
   ]
  },
  {
   "cell_type": "code",
   "execution_count": 2,
   "id": "3c02820b-6da9-4553-9ba2-7c90cf14a521",
   "metadata": {},
   "outputs": [
    {
     "name": "stdout",
     "output_type": "stream",
     "text": [
      ":: loading settings :: url = jar:file:/root/miniconda3/envs/spark341/lib/python3.9/site-packages/pyspark/jars/ivy-2.5.1.jar!/org/apache/ivy/core/settings/ivysettings.xml\n"
     ]
    },
    {
     "name": "stderr",
     "output_type": "stream",
     "text": [
      "Ivy Default Cache set to: /root/.ivy2/cache\n",
      "The jars for the packages stored in: /root/.ivy2/jars\n",
      "org.apache.commons#commons-pool2 added as a dependency\n",
      "org.apache.kafka#kafka-clients added as a dependency\n",
      "org.apache.spark#spark-protobuf_2.12 added as a dependency\n",
      "org.apache.spark#spark-sql-kafka-0-10_2.12 added as a dependency\n",
      "org.apache.spark#spark-token-provider-kafka-0-10_2.12 added as a dependency\n",
      ":: resolving dependencies :: org.apache.spark#spark-submit-parent-54432560-3158-4c3b-a3be-ffcff8fd8d81;1.0\n",
      "\tconfs: [default]\n",
      "\tfound org.apache.commons#commons-pool2;2.11.1 in central\n",
      "\tfound org.apache.kafka#kafka-clients;3.4.0 in central\n",
      "\tfound com.github.luben#zstd-jni;1.5.2-1 in central\n",
      "\tfound org.lz4#lz4-java;1.8.0 in central\n",
      "\tfound org.xerial.snappy#snappy-java;1.1.8.4 in central\n",
      "\tfound org.slf4j#slf4j-api;1.7.36 in central\n",
      "\tfound org.apache.spark#spark-protobuf_2.12;3.4.1 in central\n",
      "\tfound org.spark-project.spark#unused;1.0.0 in central\n",
      "\tfound org.apache.spark#spark-sql-kafka-0-10_2.12;3.4.1 in central\n",
      "\tfound org.apache.spark#spark-token-provider-kafka-0-10_2.12;3.4.1 in central\n",
      "\tfound org.apache.hadoop#hadoop-client-runtime;3.3.4 in central\n",
      "\tfound org.apache.hadoop#hadoop-client-api;3.3.4 in central\n",
      "\tfound org.xerial.snappy#snappy-java;1.1.10.1 in central\n",
      "\tfound org.slf4j#slf4j-api;2.0.6 in central\n",
      "\tfound commons-logging#commons-logging;1.1.3 in central\n",
      "\tfound com.google.code.findbugs#jsr305;3.0.0 in central\n",
      ":: resolution report :: resolve 1247ms :: artifacts dl 48ms\n",
      "\t:: modules in use:\n",
      "\tcom.github.luben#zstd-jni;1.5.2-1 from central in [default]\n",
      "\tcom.google.code.findbugs#jsr305;3.0.0 from central in [default]\n",
      "\tcommons-logging#commons-logging;1.1.3 from central in [default]\n",
      "\torg.apache.commons#commons-pool2;2.11.1 from central in [default]\n",
      "\torg.apache.hadoop#hadoop-client-api;3.3.4 from central in [default]\n",
      "\torg.apache.hadoop#hadoop-client-runtime;3.3.4 from central in [default]\n",
      "\torg.apache.kafka#kafka-clients;3.4.0 from central in [default]\n",
      "\torg.apache.spark#spark-protobuf_2.12;3.4.1 from central in [default]\n",
      "\torg.apache.spark#spark-sql-kafka-0-10_2.12;3.4.1 from central in [default]\n",
      "\torg.apache.spark#spark-token-provider-kafka-0-10_2.12;3.4.1 from central in [default]\n",
      "\torg.lz4#lz4-java;1.8.0 from central in [default]\n",
      "\torg.slf4j#slf4j-api;2.0.6 from central in [default]\n",
      "\torg.spark-project.spark#unused;1.0.0 from central in [default]\n",
      "\torg.xerial.snappy#snappy-java;1.1.10.1 from central in [default]\n",
      "\t:: evicted modules:\n",
      "\torg.xerial.snappy#snappy-java;1.1.8.4 by [org.xerial.snappy#snappy-java;1.1.10.1] in [default]\n",
      "\torg.slf4j#slf4j-api;1.7.36 by [org.slf4j#slf4j-api;2.0.6] in [default]\n",
      "\torg.apache.kafka#kafka-clients;3.3.2 by [org.apache.kafka#kafka-clients;3.4.0] in [default]\n",
      "\t---------------------------------------------------------------------\n",
      "\t|                  |            modules            ||   artifacts   |\n",
      "\t|       conf       | number| search|dwnlded|evicted|| number|dwnlded|\n",
      "\t---------------------------------------------------------------------\n",
      "\t|      default     |   17  |   0   |   0   |   3   ||   14  |   0   |\n",
      "\t---------------------------------------------------------------------\n",
      ":: retrieving :: org.apache.spark#spark-submit-parent-54432560-3158-4c3b-a3be-ffcff8fd8d81\n",
      "\tconfs: [default]\n",
      "\t0 artifacts copied, 14 already retrieved (0kB/20ms)\n",
      "24/05/03 03:09:00 WARN NativeCodeLoader: Unable to load native-hadoop library for your platform... using builtin-java classes where applicable\n",
      "Setting default log level to \"WARN\".\n",
      "To adjust logging level use sc.setLogLevel(newLevel). For SparkR, use setLogLevel(newLevel).\n"
     ]
    },
    {
     "name": "stdout",
     "output_type": "stream",
     "text": [
      "[('spark.master', 'local'), ('spark.app.name', 'MY_kafka'), ('spark.app.submitTime', '1714673341386'), ('spark.app.initial.file.urls', 'file:///root/.ivy2/jars/org.apache.hadoop_hadoop-client-api-3.3.4.jar,file:///root/.ivy2/jars/org.spark-project.spark_unused-1.0.0.jar,file:///root/.ivy2/jars/com.google.code.findbugs_jsr305-3.0.0.jar,file:///root/.ivy2/jars/org.apache.hadoop_hadoop-client-runtime-3.3.4.jar,file:///root/.ivy2/jars/com.github.luben_zstd-jni-1.5.2-1.jar,file:///root/.ivy2/jars/org.xerial.snappy_snappy-java-1.1.10.1.jar,file:///root/.ivy2/jars/commons-logging_commons-logging-1.1.3.jar,file:///root/.ivy2/jars/org.apache.commons_commons-pool2-2.11.1.jar,file:///root/.ivy2/jars/org.lz4_lz4-java-1.8.0.jar,file:///root/.ivy2/jars/org.apache.spark_spark-token-provider-kafka-0-10_2.12-3.4.1.jar,file:///root/.ivy2/jars/org.apache.spark_spark-sql-kafka-0-10_2.12-3.4.1.jar,file:///root/.ivy2/jars/org.apache.spark_spark-protobuf_2.12-3.4.1.jar,file:///root/.ivy2/jars/org.apache.kafka_kafka-clients-3.4.0.jar,file:///root/.ivy2/jars/org.slf4j_slf4j-api-2.0.6.jar'), ('spark.app.initial.jar.urls', 'spark://jupyter-notebook.us-west4-b.c.theta-device-418310.internal:41475/jars/org.apache.spark_spark-token-provider-kafka-0-10_2.12-3.4.1.jar,spark://jupyter-notebook.us-west4-b.c.theta-device-418310.internal:41475/jars/org.apache.hadoop_hadoop-client-runtime-3.3.4.jar,spark://jupyter-notebook.us-west4-b.c.theta-device-418310.internal:41475/jars/com.github.luben_zstd-jni-1.5.2-1.jar,spark://jupyter-notebook.us-west4-b.c.theta-device-418310.internal:41475/jars/org.apache.spark_spark-protobuf_2.12-3.4.1.jar,spark://jupyter-notebook.us-west4-b.c.theta-device-418310.internal:41475/jars/org.apache.spark_spark-sql-kafka-0-10_2.12-3.4.1.jar,spark://jupyter-notebook.us-west4-b.c.theta-device-418310.internal:41475/jars/org.lz4_lz4-java-1.8.0.jar,spark://jupyter-notebook.us-west4-b.c.theta-device-418310.internal:41475/jars/org.apache.commons_commons-pool2-2.11.1.jar,spark://jupyter-notebook.us-west4-b.c.theta-device-418310.internal:41475/jars/org.apache.hadoop_hadoop-client-api-3.3.4.jar,spark://jupyter-notebook.us-west4-b.c.theta-device-418310.internal:41475/jars/org.xerial.snappy_snappy-java-1.1.10.1.jar,spark://jupyter-notebook.us-west4-b.c.theta-device-418310.internal:41475/jars/com.google.code.findbugs_jsr305-3.0.0.jar,spark://jupyter-notebook.us-west4-b.c.theta-device-418310.internal:41475/jars/commons-logging_commons-logging-1.1.3.jar,spark://jupyter-notebook.us-west4-b.c.theta-device-418310.internal:41475/jars/org.apache.kafka_kafka-clients-3.4.0.jar,spark://jupyter-notebook.us-west4-b.c.theta-device-418310.internal:41475/jars/org.spark-project.spark_unused-1.0.0.jar,spark://jupyter-notebook.us-west4-b.c.theta-device-418310.internal:41475/jars/org.slf4j_slf4j-api-2.0.6.jar'), ('spark.app.id', 'local-1714673343609'), ('spark.app.startTime', '1714673341718'), ('spark.executor.id', 'driver'), ('spark.files', 'file:///root/.ivy2/jars/org.apache.commons_commons-pool2-2.11.1.jar,file:///root/.ivy2/jars/org.apache.kafka_kafka-clients-3.4.0.jar,file:///root/.ivy2/jars/org.apache.spark_spark-protobuf_2.12-3.4.1.jar,file:///root/.ivy2/jars/org.apache.spark_spark-sql-kafka-0-10_2.12-3.4.1.jar,file:///root/.ivy2/jars/org.apache.spark_spark-token-provider-kafka-0-10_2.12-3.4.1.jar,file:///root/.ivy2/jars/com.github.luben_zstd-jni-1.5.2-1.jar,file:///root/.ivy2/jars/org.lz4_lz4-java-1.8.0.jar,file:///root/.ivy2/jars/org.spark-project.spark_unused-1.0.0.jar,file:///root/.ivy2/jars/com.google.code.findbugs_jsr305-3.0.0.jar,file:///root/.ivy2/jars/org.apache.hadoop_hadoop-client-runtime-3.3.4.jar,file:///root/.ivy2/jars/org.apache.hadoop_hadoop-client-api-3.3.4.jar,file:///root/.ivy2/jars/org.xerial.snappy_snappy-java-1.1.10.1.jar,file:///root/.ivy2/jars/org.slf4j_slf4j-api-2.0.6.jar,file:///root/.ivy2/jars/commons-logging_commons-logging-1.1.3.jar'), ('spark.driver.extraJavaOptions', '-Djava.net.preferIPv6Addresses=false -XX:+IgnoreUnrecognizedVMOptions --add-opens=java.base/java.lang=ALL-UNNAMED --add-opens=java.base/java.lang.invoke=ALL-UNNAMED --add-opens=java.base/java.lang.reflect=ALL-UNNAMED --add-opens=java.base/java.io=ALL-UNNAMED --add-opens=java.base/java.net=ALL-UNNAMED --add-opens=java.base/java.nio=ALL-UNNAMED --add-opens=java.base/java.util=ALL-UNNAMED --add-opens=java.base/java.util.concurrent=ALL-UNNAMED --add-opens=java.base/java.util.concurrent.atomic=ALL-UNNAMED --add-opens=java.base/sun.nio.ch=ALL-UNNAMED --add-opens=java.base/sun.nio.cs=ALL-UNNAMED --add-opens=java.base/sun.security.action=ALL-UNNAMED --add-opens=java.base/sun.util.calendar=ALL-UNNAMED --add-opens=java.security.jgss/sun.security.krb5=ALL-UNNAMED -Djdk.reflect.useDirectMethodHandle=false'), ('spark.driver.port', '41475'), ('spark.jars', 'file:///root/.ivy2/jars/org.apache.commons_commons-pool2-2.11.1.jar,file:///root/.ivy2/jars/org.apache.kafka_kafka-clients-3.4.0.jar,file:///root/.ivy2/jars/org.apache.spark_spark-protobuf_2.12-3.4.1.jar,file:///root/.ivy2/jars/org.apache.spark_spark-sql-kafka-0-10_2.12-3.4.1.jar,file:///root/.ivy2/jars/org.apache.spark_spark-token-provider-kafka-0-10_2.12-3.4.1.jar,file:///root/.ivy2/jars/com.github.luben_zstd-jni-1.5.2-1.jar,file:///root/.ivy2/jars/org.lz4_lz4-java-1.8.0.jar,file:///root/.ivy2/jars/org.spark-project.spark_unused-1.0.0.jar,file:///root/.ivy2/jars/com.google.code.findbugs_jsr305-3.0.0.jar,file:///root/.ivy2/jars/org.apache.hadoop_hadoop-client-runtime-3.3.4.jar,file:///root/.ivy2/jars/org.apache.hadoop_hadoop-client-api-3.3.4.jar,file:///root/.ivy2/jars/org.xerial.snappy_snappy-java-1.1.10.1.jar,file:///root/.ivy2/jars/org.slf4j_slf4j-api-2.0.6.jar,file:///root/.ivy2/jars/commons-logging_commons-logging-1.1.3.jar'), ('spark.rdd.compress', 'True'), ('spark.submit.pyFiles', '/root/.ivy2/jars/org.apache.commons_commons-pool2-2.11.1.jar,/root/.ivy2/jars/org.apache.kafka_kafka-clients-3.4.0.jar,/root/.ivy2/jars/org.apache.spark_spark-protobuf_2.12-3.4.1.jar,/root/.ivy2/jars/org.apache.spark_spark-sql-kafka-0-10_2.12-3.4.1.jar,/root/.ivy2/jars/org.apache.spark_spark-token-provider-kafka-0-10_2.12-3.4.1.jar,/root/.ivy2/jars/com.github.luben_zstd-jni-1.5.2-1.jar,/root/.ivy2/jars/org.lz4_lz4-java-1.8.0.jar,/root/.ivy2/jars/org.spark-project.spark_unused-1.0.0.jar,/root/.ivy2/jars/com.google.code.findbugs_jsr305-3.0.0.jar,/root/.ivy2/jars/org.apache.hadoop_hadoop-client-runtime-3.3.4.jar,/root/.ivy2/jars/org.apache.hadoop_hadoop-client-api-3.3.4.jar,/root/.ivy2/jars/org.xerial.snappy_snappy-java-1.1.10.1.jar,/root/.ivy2/jars/org.slf4j_slf4j-api-2.0.6.jar,/root/.ivy2/jars/commons-logging_commons-logging-1.1.3.jar'), ('spark.serializer.objectStreamReset', '100'), ('spark.jars.packages', 'org.apache.commons:commons-pool2:2.11.1,org.apache.kafka:kafka-clients:3.4.0,org.apache.spark:spark-protobuf_2.12:3.4.1,org.apache.spark:spark-sql-kafka-0-10_2.12:3.4.1,org.apache.spark:spark-token-provider-kafka-0-10_2.12:3.4.1'), ('spark.driver.host', 'jupyter-notebook.us-west4-b.c.theta-device-418310.internal'), ('spark.submit.deployMode', 'client'), ('spark.ui.showConsoleProgress', 'true'), ('spark.repl.local.jars', 'file:///root/.ivy2/jars/org.apache.commons_commons-pool2-2.11.1.jar,file:///root/.ivy2/jars/org.apache.kafka_kafka-clients-3.4.0.jar,file:///root/.ivy2/jars/org.apache.spark_spark-protobuf_2.12-3.4.1.jar,file:///root/.ivy2/jars/org.apache.spark_spark-sql-kafka-0-10_2.12-3.4.1.jar,file:///root/.ivy2/jars/org.apache.spark_spark-token-provider-kafka-0-10_2.12-3.4.1.jar,file:///root/.ivy2/jars/com.github.luben_zstd-jni-1.5.2-1.jar,file:///root/.ivy2/jars/org.lz4_lz4-java-1.8.0.jar,file:///root/.ivy2/jars/org.spark-project.spark_unused-1.0.0.jar,file:///root/.ivy2/jars/com.google.code.findbugs_jsr305-3.0.0.jar,file:///root/.ivy2/jars/org.apache.hadoop_hadoop-client-runtime-3.3.4.jar,file:///root/.ivy2/jars/org.apache.hadoop_hadoop-client-api-3.3.4.jar,file:///root/.ivy2/jars/org.xerial.snappy_snappy-java-1.1.10.1.jar,file:///root/.ivy2/jars/org.slf4j_slf4j-api-2.0.6.jar,file:///root/.ivy2/jars/commons-logging_commons-logging-1.1.3.jar'), ('spark.executor.extraJavaOptions', '-Djava.net.preferIPv6Addresses=false -XX:+IgnoreUnrecognizedVMOptions --add-opens=java.base/java.lang=ALL-UNNAMED --add-opens=java.base/java.lang.invoke=ALL-UNNAMED --add-opens=java.base/java.lang.reflect=ALL-UNNAMED --add-opens=java.base/java.io=ALL-UNNAMED --add-opens=java.base/java.net=ALL-UNNAMED --add-opens=java.base/java.nio=ALL-UNNAMED --add-opens=java.base/java.util=ALL-UNNAMED --add-opens=java.base/java.util.concurrent=ALL-UNNAMED --add-opens=java.base/java.util.concurrent.atomic=ALL-UNNAMED --add-opens=java.base/sun.nio.ch=ALL-UNNAMED --add-opens=java.base/sun.nio.cs=ALL-UNNAMED --add-opens=java.base/sun.security.action=ALL-UNNAMED --add-opens=java.base/sun.util.calendar=ALL-UNNAMED --add-opens=java.security.jgss/sun.security.krb5=ALL-UNNAMED -Djdk.reflect.useDirectMethodHandle=false')]\n"
     ]
    }
   ],
   "source": [
    "# Spark 세션 초기화\n",
    "spark = SparkSession.builder \\\n",
    "    .config(conf=conf)\\\n",
    "    .getOrCreate()\n",
    "properties = spark.sparkContext.getConf().getAll()\n",
    "print(properties)"
   ]
  },
  {
   "cell_type": "code",
   "execution_count": 3,
   "id": "d23cc152-5740-453e-bef7-515b3e8466d0",
   "metadata": {},
   "outputs": [],
   "source": [
    "\n",
    "# Kafka 서버 정보\n",
    "# host명으로 접근하기 위해 kube coredns에 hosts 등록해줘야 함\n",
    "# kafka_bootstrap_servers = 'peter-kafka01.foo.bar:9092,peter-kafka02.foo.bar:9092,peter-kafka03.foo.bar:9092'\n",
    "kafka_bootstrap_servers = 'pkc-lq8v7.eu-central-1.aws.confluent.cloud:9092'\n",
    "topic = 'kafka-test'\n",
    "\n",
    "# Kafka 스트림 읽기 설정\n",
    "df = spark \\\n",
    "    .readStream \\\n",
    "    .format(\"kafka\") \\\n",
    "    .option(\"kafka.bootstrap.servers\", kafka_bootstrap_servers) \\\n",
    "    .option(\"subscribe\", topic) \\\n",
    "    .option(\"startingOffsets\", \"earliest\") \\\n",
    "    .option(\"maxOffsetsPerTrigger\", 100) \\\n",
    "    .load()\n",
    "\n",
    "# # 메시지의 value를 JSON으로 파싱\n",
    "# schema = StructType([\n",
    "#     StructField(\"ident\", StringType(), True),\n",
    "#     StructField(\"type\", StringType(), True),\n",
    "#     StructField(\"name\", StringType(), True),\n",
    "#     StructField(\"elevation_ft\", StringType(), True),\n",
    "#     StructField(\"continent\", StringType(), True),\n",
    "#     StructField(\"iso_country\", StringType(), True),\n",
    "#     StructField(\"iso_region\", StringType(), True),\n",
    "#     StructField(\"municipality\", StringType(), True),\n",
    "#     StructField(\"gps_code\", StringType(), True),\n",
    "#     StructField(\"iata_code\", StringType(), True),\n",
    "#     StructField(\"local_code\", StringType(), True),\n",
    "#     StructField(\"coordinates\", StringType(), True),\n",
    "# ])\n",
    "\n",
    "# json_df = df.select(from_json(col(\"value\").cast(\"string\"), schema).alias(\"data\")).select(\"data.*\")"
   ]
  },
  {
   "cell_type": "code",
   "execution_count": null,
   "id": "5a4ac640-5bc5-4829-a1fb-dd0b56c1481c",
   "metadata": {},
   "outputs": [
    {
     "name": "stderr",
     "output_type": "stream",
     "text": [
      "24/05/03 03:09:10 WARN ResolveWriteToStream: Temporary checkpoint location created which is deleted normally when the query didn't fail: /tmp/temporary-6cc352c1-f1b2-4f5b-b3db-b4ce5caf07e6. If it's required to delete it under any circumstances, please set spark.sql.streaming.forceDeleteTempCheckpointLocation to true. Important to know deleting temp checkpoint folder is best effort.\n",
      "24/05/03 03:09:10 WARN ResolveWriteToStream: spark.sql.adaptive.enabled is not supported in streaming DataFrames/Datasets and will be disabled.\n",
      "24/05/03 03:09:11 WARN AdminClientConfig: These configurations '[key.deserializer, value.deserializer, enable.auto.commit, max.poll.records, auto.offset.reset]' were supplied but are not used yet.\n"
     ]
    }
   ],
   "source": [
    "# 스트림 출력 설정\n",
    "query = df.writeStream \\\n",
    "    .outputMode(\"append\") \\\n",
    "    .format(\"console\") \\\n",
    "    .start()\n",
    "\n",
    "query.awaitTermination()"
   ]
  },
  {
   "cell_type": "code",
   "execution_count": null,
   "id": "8b6194c1-7b2f-47e3-bf49-81532e0d7780",
   "metadata": {},
   "outputs": [],
   "source": [
    "spark.stop()"
   ]
  }
 ],
 "metadata": {
  "kernelspec": {
   "display_name": "Python 3 (ipykernel)",
   "language": "python",
   "name": "python3"
  },
  "language_info": {
   "codemirror_mode": {
    "name": "ipython",
    "version": 3
   },
   "file_extension": ".py",
   "mimetype": "text/x-python",
   "name": "python",
   "nbconvert_exporter": "python",
   "pygments_lexer": "ipython3",
   "version": "3.9.19"
  }
 },
 "nbformat": 4,
 "nbformat_minor": 5
}
