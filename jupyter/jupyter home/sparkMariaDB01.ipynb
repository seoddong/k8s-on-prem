{
 "cells": [
  {
   "cell_type": "code",
   "execution_count": 1,
   "id": "23c73d2a-a359-42a7-b018-ce8409edc80d",
   "metadata": {},
   "outputs": [
    {
     "name": "stdout",
     "output_type": "stream",
     "text": [
      ":: loading settings :: url = jar:file:/root/miniconda3/envs/spark341/lib/python3.9/site-packages/pyspark/jars/ivy-2.5.1.jar!/org/apache/ivy/core/settings/ivysettings.xml\n"
     ]
    },
    {
     "name": "stderr",
     "output_type": "stream",
     "text": [
      "Ivy Default Cache set to: /root/.ivy2/cache\n",
      "The jars for the packages stored in: /root/.ivy2/jars\n",
      "org.mariadb.jdbc#mariadb-java-client added as a dependency\n",
      ":: resolving dependencies :: org.apache.spark#spark-submit-parent-134dccfa-e17e-4538-84d3-42ae42ae3d9c;1.0\n",
      "\tconfs: [default]\n",
      "\tfound org.mariadb.jdbc#mariadb-java-client;3.3.3 in central\n",
      "\tfound com.github.waffle#waffle-jna;3.3.0 in central\n",
      "\tfound net.java.dev.jna#jna;5.13.0 in central\n",
      "\tfound net.java.dev.jna#jna-platform;5.13.0 in central\n",
      "\tfound org.slf4j#jcl-over-slf4j;2.0.7 in central\n",
      "\tfound org.slf4j#slf4j-api;2.0.7 in central\n",
      "\tfound com.github.ben-manes.caffeine#caffeine;2.9.3 in central\n",
      "\tfound com.google.errorprone#error_prone_annotations;2.10.0 in central\n",
      "\tfound org.checkerframework#checker-qual;3.32.0 in central\n",
      ":: resolution report :: resolve 867ms :: artifacts dl 42ms\n",
      "\t:: modules in use:\n",
      "\tcom.github.ben-manes.caffeine#caffeine;2.9.3 from central in [default]\n",
      "\tcom.github.waffle#waffle-jna;3.3.0 from central in [default]\n",
      "\tcom.google.errorprone#error_prone_annotations;2.10.0 from central in [default]\n",
      "\tnet.java.dev.jna#jna;5.13.0 from central in [default]\n",
      "\tnet.java.dev.jna#jna-platform;5.13.0 from central in [default]\n",
      "\torg.checkerframework#checker-qual;3.32.0 from central in [default]\n",
      "\torg.mariadb.jdbc#mariadb-java-client;3.3.3 from central in [default]\n",
      "\torg.slf4j#jcl-over-slf4j;2.0.7 from central in [default]\n",
      "\torg.slf4j#slf4j-api;2.0.7 from central in [default]\n",
      "\t:: evicted modules:\n",
      "\torg.checkerframework#checker-qual;3.19.0 by [org.checkerframework#checker-qual;3.32.0] in [default]\n",
      "\t---------------------------------------------------------------------\n",
      "\t|                  |            modules            ||   artifacts   |\n",
      "\t|       conf       | number| search|dwnlded|evicted|| number|dwnlded|\n",
      "\t---------------------------------------------------------------------\n",
      "\t|      default     |   10  |   0   |   0   |   1   ||   9   |   0   |\n",
      "\t---------------------------------------------------------------------\n",
      ":: retrieving :: org.apache.spark#spark-submit-parent-134dccfa-e17e-4538-84d3-42ae42ae3d9c\n",
      "\tconfs: [default]\n",
      "\t0 artifacts copied, 9 already retrieved (0kB/14ms)\n",
      "24/04/29 15:18:22 WARN NativeCodeLoader: Unable to load native-hadoop library for your platform... using builtin-java classes where applicable\n",
      "Setting default log level to \"WARN\".\n",
      "To adjust logging level use sc.setLogLevel(newLevel). For SparkR, use setLogLevel(newLevel).\n"
     ]
    }
   ],
   "source": [
    "# 심플하게 spark에서 MariaDB 접속 테스트\n",
    "from pyspark.sql import SparkSession\n",
    "from pyspark.conf import SparkConf\n",
    "\n",
    "conf = (\n",
    "SparkConf()\n",
    "    .setAppName(\"MY_MariaDB\") # replace with your desired name\n",
    "    .set(\"spark.jars.packages\", \\\n",
    "         \"org.mariadb.jdbc:mariadb-java-client:3.3.3\"\\\n",
    "        )\n",
    "    # .set(\"spark.sql.shuffle.partitions\", \"4\") # default is 200 partitions which is too many for local\n",
    "    # .setMaster(\"local[*]\") # replace the * with your desired number of cores. * for use all.\n",
    "    .setMaster(\"spark://34.125.136.103:30077\")\n",
    ")\n",
    "\n",
    "spark = SparkSession.builder \\\n",
    "    .config(conf=conf)\\\n",
    "    .getOrCreate()\n"
   ]
  },
  {
   "cell_type": "code",
   "execution_count": 2,
   "id": "0281491c-c196-42d1-9395-6eaf74cd591d",
   "metadata": {},
   "outputs": [
    {
     "name": "stderr",
     "output_type": "stream",
     "text": [
      "                                                                                \r"
     ]
    },
    {
     "name": "stdout",
     "output_type": "stream",
     "text": [
      "+-------------+------------+----------+----------+------+-------+----------+----------+--------------+-----------+---------------+------------+---------+--------------+-------------------+-------------------+----------+------------------+--------+--------------+-------------+----------------+---------+\n",
      "|TABLE_CATALOG|TABLE_SCHEMA|TABLE_NAME|TABLE_TYPE|ENGINE|VERSION|ROW_FORMAT|TABLE_ROWS|AVG_ROW_LENGTH|DATA_LENGTH|MAX_DATA_LENGTH|INDEX_LENGTH|DATA_FREE|AUTO_INCREMENT|        CREATE_TIME|        UPDATE_TIME|CHECK_TIME|   TABLE_COLLATION|CHECKSUM|CREATE_OPTIONS|TABLE_COMMENT|MAX_INDEX_LENGTH|TEMPORARY|\n",
      "+-------------+------------+----------+----------+------+-------+----------+----------+--------------+-----------+---------------+------------+---------+--------------+-------------------+-------------------+----------+------------------+--------+--------------+-------------+----------------+---------+\n",
      "|          def|     sparkdb|      test|BASE TABLE|InnoDB|     10|   Dynamic|         1|         16384|      16384|              0|           0|        0|             2|2024-04-28 21:06:03|2024-04-28 21:06:03|      null|utf8mb3_general_ci|    null|              |             |               0|        N|\n",
      "+-------------+------------+----------+----------+------+-------+----------+----------+--------------+-----------+---------------+------------+---------+--------------+-------------------+-------------------+----------+------------------+--------+--------------+-------------+----------------+---------+\n",
      "\n"
     ]
    }
   ],
   "source": [
    "# read the information schema table \n",
    "spark.read.format('jdbc') \\\n",
    "    .options(\n",
    "         url='jdbc:mysql://34.125.136.103:30007/?permitMysqlScheme', # database url (local, remote)\n",
    "         dbtable='information_schema.tables',\n",
    "         user='root',\n",
    "         password='tjehdgml',\n",
    "         driver='org.mariadb.jdbc.Driver') \\\n",
    "     .load() \\\n",
    "     .filter(\"table_schema = 'sparkdb'\") \\\n",
    "     .show()"
   ]
  },
  {
   "cell_type": "code",
   "execution_count": 3,
   "id": "4d02b2f3-35ee-4e6b-ad9c-69f00a6b4b93",
   "metadata": {},
   "outputs": [
    {
     "name": "stderr",
     "output_type": "stream",
     "text": [
      "[Stage 1:>                                                          (0 + 1) / 1]\r"
     ]
    },
    {
     "name": "stdout",
     "output_type": "stream",
     "text": [
      "+---+-------+\n",
      "| id|   name|\n",
      "+---+-------+\n",
      "|  1|example|\n",
      "+---+-------+\n",
      "\n"
     ]
    },
    {
     "name": "stderr",
     "output_type": "stream",
     "text": [
      "                                                                                \r"
     ]
    }
   ],
   "source": [
    "# read the information schema table \n",
    "spark.read.format('jdbc') \\\n",
    "    .options(\n",
    "         url='jdbc:mysql://34.125.136.103:30007/sparkdb?permitMysqlScheme', # database url (local, remote)\n",
    "         dbtable='test',\n",
    "         user='root',\n",
    "         password='tjehdgml',\n",
    "         driver='org.mariadb.jdbc.Driver') \\\n",
    "     .load() \\\n",
    "     .show()"
   ]
  },
  {
   "cell_type": "code",
   "execution_count": 4,
   "id": "0e6d89db-d419-4081-8cc1-d0b1ade2dfab",
   "metadata": {},
   "outputs": [],
   "source": [
    "spark.stop()"
   ]
  }
 ],
 "metadata": {
  "kernelspec": {
   "display_name": "Python 3 (ipykernel)",
   "language": "python",
   "name": "python3"
  },
  "language_info": {
   "codemirror_mode": {
    "name": "ipython",
    "version": 3
   },
   "file_extension": ".py",
   "mimetype": "text/x-python",
   "name": "python",
   "nbconvert_exporter": "python",
   "pygments_lexer": "ipython3",
   "version": "3.9.19"
  }
 },
 "nbformat": 4,
 "nbformat_minor": 5
}
